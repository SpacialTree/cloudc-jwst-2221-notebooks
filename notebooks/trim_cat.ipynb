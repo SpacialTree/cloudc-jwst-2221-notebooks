{
 "cells": [
  {
   "cell_type": "code",
   "execution_count": 1,
   "id": "89a17481-d666-4546-80b9-b6bb6c009d53",
   "metadata": {
    "tags": []
   },
   "outputs": [],
   "source": [
    "from glob import glob\n",
    "from astroquery.mast import Mast, Observations\n",
    "import os\n",
    "import shutil\n",
    "import pyavm\n",
    "import numpy as np\n",
    "import PIL\n",
    "import json\n",
    "import requests\n",
    "import asdf\n",
    "import regions\n",
    "from astropy import log\n",
    "from astropy.io import ascii, fits\n",
    "from astropy.wcs import WCS\n",
    "from astropy import wcs\n",
    "from astropy.coordinates import SkyCoord\n",
    "from astropy.utils.data import download_file\n",
    "from astropy.visualization import ImageNormalize, ManualInterval, LogStretch, LinearStretch\n",
    "from astropy.visualization import simple_norm\n",
    "import matplotlib.pyplot as plt\n",
    "import matplotlib as mpl\n",
    "from astropy.table import Table\n",
    "from astropy.nddata import Cutout2D\n",
    "import astropy.units as u\n",
    "\n",
    "# do this before importing webb\n",
    "os.environ[\"CRDS_PATH\"] = \"/orange/adamginsburg/jwst/brick/crds/\"\n",
    "os.environ[\"CRDS_SERVER_URL\"] = \"https://jwst-crds.stsci.edu\"\n",
    "from jwst.datamodels import ImageModel\n",
    "\n",
    "from jwst.pipeline import calwebb_image3\n",
    "from jwst.pipeline import Detector1Pipeline, Image2Pipeline\n",
    "\n",
    "from jwst.datamodels import ImageModel\n",
    "\n",
    "import jwst.datamodels\n",
    "from jwst import datamodels"
   ]
  },
  {
   "cell_type": "code",
   "execution_count": 2,
   "id": "38dcc3f0-6f85-429d-9999-489cb9331cf1",
   "metadata": {
    "tags": []
   },
   "outputs": [],
   "source": [
    "basepath = '/orange/adamginsburg/jwst/cloudc/'\n",
    "basetable = Table.read(f'{basepath}/catalogs/crowdsource_nsky0_merged_photometry_tables_merged.fits')"
   ]
  },
  {
   "cell_type": "code",
   "execution_count": 4,
   "id": "d9789548-4163-4f03-8e5e-5f9256a97a8f",
   "metadata": {
    "tags": []
   },
   "outputs": [],
   "source": [
    "trimmed = basetable[:10]"
   ]
  },
  {
   "cell_type": "code",
   "execution_count": 5,
   "id": "19549064-20dd-40c6-a361-89bd8d026293",
   "metadata": {
    "tags": []
   },
   "outputs": [],
   "source": [
    "trimmed.write(f'{basepath}/catalogs/crowdsource_nsky0_merged_photometry_tables_merged-trimmed.fits')"
   ]
  },
  {
   "cell_type": "code",
   "execution_count": null,
   "id": "64831146-00e0-42ff-8719-91b6f104895f",
   "metadata": {},
   "outputs": [],
   "source": []
  }
 ],
 "metadata": {
  "kernelspec": {
   "display_name": "Python 3 (ipykernel)",
   "language": "python",
   "name": "python3"
  },
  "language_info": {
   "codemirror_mode": {
    "name": "ipython",
    "version": 3
   },
   "file_extension": ".py",
   "mimetype": "text/x-python",
   "name": "python",
   "nbconvert_exporter": "python",
   "pygments_lexer": "ipython3",
   "version": "3.9.17"
  }
 },
 "nbformat": 4,
 "nbformat_minor": 5
}
