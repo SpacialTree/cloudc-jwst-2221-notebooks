{
 "cells": [
  {
   "cell_type": "code",
   "execution_count": 1,
   "id": "bd16d340-9351-4d78-bc33-1957666bf841",
   "metadata": {
    "tags": []
   },
   "outputs": [],
   "source": [
    "from spectral_cube import SpectralCube\n",
    "import numpy as np\n",
    "from astropy.visualization import quantity_support\n",
    "from astropy import units as u\n",
    "from astropy.wcs import WCS\n",
    "import matplotlib.pyplot as plt\n",
    "from astropy.utils import data\n",
    "from reproject import reproject_exact\n",
    "from astropy.io import fits\n",
    "import regions\n",
    "import glob, os\n",
    "import spectral_cube\n",
    "from astropy.table import Table\n"
   ]
  },
  {
   "cell_type": "markdown",
   "id": "898b6464-f5e6-4440-8a1a-a0d657b6f720",
   "metadata": {},
   "source": [
    "# Making Subcubes for SiO Moment Analysis"
   ]
  },
  {
   "cell_type": "raw",
   "id": "fb24cbb5-be1a-4b1a-bd2e-9fe562808e1b",
   "metadata": {
    "tags": []
   },
   "source": [
    "# SiO 2-1 rest_freq = 86.84696 GHz\n",
    "fn_SiO_21 = '/orange/adamginsburg/ACES/rawdata/2021.1.00172.L/science_goal.uid___A001_X1590_X30a8/group.uid___A001_X1590_X30a9/member.uid___A001_X15a0_X1a8/calibrated/working/uid___A001_X15a0_X1a8.s38_0.Sgr_A_star_sci.spw27.cube.I.iter1.image.pbcor.fits'\n",
    "# SiO 5-4 rest_freq = 217.104984 GHz\n",
    "fn_SiO_54 = '/orange/adamginsburg/jwst/cloudc/alma/uid___A001_X1590_X282a.CloudC.spw25.merge.p.image'"
   ]
  },
  {
   "cell_type": "raw",
   "id": "c4a961e6-3c87-40ce-9739-2c2e1bb29d2e",
   "metadata": {
    "tags": []
   },
   "source": [
    "cube_SiO_21 = SpectralCube.read(fn_SiO_21)\n",
    "cube_SiO_21 = cube_SiO_21.with_spectral_unit(u.km/u.s, velocity_convention='radio', rest_value=86.84696*u.GHz)\n",
    "\n",
    "cube_SiO_54 = SpectralCube.read(fn_SiO_54)\n",
    "cube_SiO_54 = cube_SiO_54.with_spectral_unit(u.km/u.s, velocity_convention='radio', rest_value=217.104984*u.GHz)"
   ]
  },
  {
   "cell_type": "raw",
   "id": "4f259f06-7177-4bf8-8a5a-8ad2bfb2564e",
   "metadata": {},
   "source": [
    "print('SiO')\n",
    "fn_SiO_mosaic = '/orange/adamginsburg/ACES/mosaics/cubes/SiO21_CubeMosaic.fits'\n",
    "cube_SiO_mosaic = SpectralCube.read(fn_SiO_mosaic)\n",
    "\n",
    "cube_SiO = cube_SiO_mosaic.with_spectral_unit(u.km/u.s, velocity_convention='radio', rest_value=86.84696*u.GHz)\n",
    "\n",
    "cube_SiO_filament = cube_SiO.subcube_from_regions(reg_filament, minimize=False).spectral_slab(vlow, vhigh)#.to(u.K)\n",
    "cube_SiO_filament.write(f'/orange/adamginsburg/jwst/cloudc/alma/moments/cube_SiO_mos_filament.fits', overwrite=True)\n",
    "\n",
    "mom0_SiO_filament = cube_SiO_filament.moment0()\n",
    "mom0_SiO_filament.write(f'/orange/adamginsburg/jwst/cloudc/alma/moments/mom0_SiO_mos_filament.fits', overwrite=True)"
   ]
  },
  {
   "cell_type": "markdown",
   "id": "1fc53928-2800-4e1a-b7a1-3369b19a4d11",
   "metadata": {},
   "source": [
    "## Larger Subcubes"
   ]
  },
  {
   "cell_type": "raw",
   "id": "4d62d836-946c-45c2-8db6-46eae5717651",
   "metadata": {
    "tags": []
   },
   "source": [
    "cube_lowv = cube_SiO_54.spectral_slab(40*u.km/u.s+-100*u.km/u.s, 40*u.km/u.s+0*u.km/u.s)\n",
    "cube_lowv.write(f'/orange/adamginsburg/jwst/cloudc/alma/moments/cube_SiO_B6_n60_p40.fits', overwrite=True)"
   ]
  },
  {
   "cell_type": "raw",
   "id": "dd63a57a-c866-4916-8ed1-e20d68010702",
   "metadata": {
    "tags": []
   },
   "source": [
    "cube_highv = cube_SiO_54.spectral_slab(40*u.km/u.s+0*u.km/u.s, 40*u.km/u.s+100*u.km/u.s)\n",
    "cube_highv.write(f'/orange/adamginsburg/jwst/cloudc/alma/moments/cube_SiO_B6_p40_p140.fits', overwrite=True)"
   ]
  },
  {
   "cell_type": "raw",
   "id": "5b6ea123-43cf-43be-9d7b-4fa8689c4b45",
   "metadata": {
    "tags": []
   },
   "source": [
    "mom0_lowv = cube_lowv.moment0()\n",
    "mom0_lowv.write(f'/orange/adamginsburg/jwst/cloudc/alma/moments/mom0_SiO_B6_n60_p40.fits', overwrite=True)"
   ]
  },
  {
   "cell_type": "raw",
   "id": "6d226b33-52d7-40ef-8dba-780f32c404fa",
   "metadata": {
    "tags": []
   },
   "source": [
    "mom0_highv = cube_highv.moment0()\n",
    "mom0_highv.write(f'/orange/adamginsburg/jwst/cloudc/alma/moments/mom0_SiO_B6_p40_p140.fits', overwrite=True)"
   ]
  },
  {
   "cell_type": "markdown",
   "id": "0976ad34-71e5-49e1-8e6a-50b49c6fdafa",
   "metadata": {},
   "source": [
    "## Smaller Subcubes"
   ]
  },
  {
   "cell_type": "code",
   "execution_count": 16,
   "id": "ed75496c-60f8-4e1e-a56c-7f964f860dd5",
   "metadata": {
    "tags": []
   },
   "outputs": [],
   "source": [
    "cube_lowv = cube_SiO_54.spectral_slab(-10*u.km/u.s, 40*u.km/u.s)\n",
    "cube_lowv.write(f'/orange/adamginsburg/jwst/cloudc/alma/moments/cube_SiO_B6_n10_p40.fits', overwrite=True)"
   ]
  },
  {
   "cell_type": "code",
   "execution_count": 17,
   "id": "87736f93-548f-4a00-88ae-bfcb228a1b0c",
   "metadata": {
    "tags": []
   },
   "outputs": [],
   "source": [
    "cube_highv = cube_SiO_54.spectral_slab(40*u.km/u.s, 90*u.km/u.s)\n",
    "cube_highv.write(f'/orange/adamginsburg/jwst/cloudc/alma/moments/cube_SiO_B6_p40_p90.fits', overwrite=True)"
   ]
  },
  {
   "cell_type": "code",
   "execution_count": 18,
   "id": "2963473a-12a7-4a60-9c3b-f0ff85f39f55",
   "metadata": {
    "tags": []
   },
   "outputs": [
    {
     "name": "stderr",
     "output_type": "stream",
     "text": [
      "/blue/adamginsburg/adamginsburg/repos/radio-beam/radio_beam/multiple_beams.py:286: UserWarning: Do not use the average beam for convolution! Use the smallest common beam from `Beams.common_beam()`.\n",
      "  warnings.warn(\"Do not use the average beam for convolution! Use the\"\n",
      "WARNING: BeamAverageWarning: Arithmetic beam averaging is being performed.  This is not a mathematically robust operation, but is being permitted because the beams differ by <0.01 [spectral_cube.base_class]\n"
     ]
    }
   ],
   "source": [
    "mom0_lowv = cube_lowv.moment0()\n",
    "mom0_lowv.write(f'/orange/adamginsburg/jwst/cloudc/alma/moments/mom0_SiO_B6_n10_p40.fits', overwrite=True)"
   ]
  },
  {
   "cell_type": "code",
   "execution_count": 19,
   "id": "8c4decc3-0b18-40b3-b0cf-dcb1acee1a7b",
   "metadata": {
    "tags": []
   },
   "outputs": [
    {
     "name": "stderr",
     "output_type": "stream",
     "text": [
      "/blue/adamginsburg/adamginsburg/repos/radio-beam/radio_beam/multiple_beams.py:286: UserWarning: Do not use the average beam for convolution! Use the smallest common beam from `Beams.common_beam()`.\n",
      "  warnings.warn(\"Do not use the average beam for convolution! Use the\"\n",
      "WARNING: BeamAverageWarning: Arithmetic beam averaging is being performed.  This is not a mathematically robust operation, but is being permitted because the beams differ by <0.01 [spectral_cube.base_class]\n"
     ]
    }
   ],
   "source": [
    "mom0_highv = cube_highv.moment0()\n",
    "mom0_highv.write(f'/orange/adamginsburg/jwst/cloudc/alma/moments/mom0_SiO_B6_p40_p90.fits', overwrite=True)"
   ]
  },
  {
   "cell_type": "markdown",
   "id": "b66a3e03-50fc-49c3-aff1-19fdc0daaff0",
   "metadata": {},
   "source": [
    "# SiO 2-1 Subcubes"
   ]
  },
  {
   "cell_type": "code",
   "execution_count": 10,
   "id": "eddc6d61-9b5d-43c7-9921-95c850fe48dd",
   "metadata": {
    "tags": []
   },
   "outputs": [],
   "source": [
    "fn_SiO_21 = '/orange/adamginsburg/ACES/rawdata/2021.1.00172.L/science_goal.uid___A001_X1590_X30a8/group.uid___A001_X1590_X30a9/member.uid___A001_X15a0_X1a8/calibrated/working/uid___A001_X15a0_X1a8.s38_0.Sgr_A_star_sci.spw27.cube.I.iter1.image.pbcor.fits'"
   ]
  },
  {
   "cell_type": "code",
   "execution_count": 11,
   "id": "8a972e18-4e95-4ec0-9892-69116e8ab35b",
   "metadata": {
    "tags": []
   },
   "outputs": [
    {
     "name": "stderr",
     "output_type": "stream",
     "text": [
      "WARNING: StokesWarning: Cube is a Stokes cube, returning spectral cube for I component [spectral_cube.io.core]\n"
     ]
    }
   ],
   "source": [
    "cube_SiO_21 = SpectralCube.read(fn_SiO_21)\n",
    "cube_SiO_21 = cube_SiO_21.with_spectral_unit(u.km/u.s, velocity_convention='radio', rest_value=86.84696*u.GHz)"
   ]
  },
  {
   "cell_type": "code",
   "execution_count": 12,
   "id": "e3c16a8e-9831-4c2b-aded-1a0621dbf623",
   "metadata": {
    "tags": []
   },
   "outputs": [],
   "source": [
    "cube_lowv = cube_SiO_21.spectral_slab(-10*u.km/u.s, 40*u.km/u.s)\n",
    "cube_lowv.write(f'/orange/adamginsburg/jwst/cloudc/alma/moments/cube_SiO_B3_n10_p40.fits', overwrite=True)"
   ]
  },
  {
   "cell_type": "code",
   "execution_count": 13,
   "id": "d3c4c3fa-fd86-456b-be84-e91b802f0f36",
   "metadata": {
    "tags": []
   },
   "outputs": [],
   "source": [
    "mom0_lowv = cube_lowv.moment0()\n",
    "mom0_lowv.write(f'/orange/adamginsburg/jwst/cloudc/alma/moments/mom0_SiO_B3_n10_p40.fits', overwrite=True)"
   ]
  },
  {
   "cell_type": "code",
   "execution_count": 14,
   "id": "99f3e16f-4817-4a90-a13d-0269deb546b7",
   "metadata": {
    "tags": []
   },
   "outputs": [],
   "source": [
    "cube_highv = cube_SiO_21.spectral_slab(40*u.km/u.s, 90*u.km/u.s)\n",
    "cube_highv.write(f'/orange/adamginsburg/jwst/cloudc/alma/moments/cube_SiO_B3_p40_p90.fits', overwrite=True)"
   ]
  },
  {
   "cell_type": "code",
   "execution_count": 15,
   "id": "7711a327-371c-47db-aedc-a5b9251a3011",
   "metadata": {
    "tags": []
   },
   "outputs": [],
   "source": [
    "mom0_highv = cube_highv.moment0()\n",
    "mom0_highv.write(f'/orange/adamginsburg/jwst/cloudc/alma/moments/mom0_SiO_B3_p40_p90.fits', overwrite=True)"
   ]
  },
  {
   "cell_type": "markdown",
   "id": "ec02b23e-e871-4dcf-9bc1-22217071942f",
   "metadata": {},
   "source": [
    "## Centered on -55 km/s"
   ]
  },
  {
   "cell_type": "code",
   "execution_count": 2,
   "id": "72dff787-97e9-4254-abe3-9d85d370cb04",
   "metadata": {
    "tags": []
   },
   "outputs": [],
   "source": [
    "fn_SiO_21 = '/orange/adamginsburg/ACES/rawdata/2021.1.00172.L/science_goal.uid___A001_X1590_X30a8/group.uid___A001_X1590_X30a9/member.uid___A001_X15a0_X1a8/calibrated/working/uid___A001_X15a0_X1a8.s38_0.Sgr_A_star_sci.spw27.cube.I.iter1.image.pbcor.fits'"
   ]
  },
  {
   "cell_type": "code",
   "execution_count": 3,
   "id": "4f30b35a-5787-49f0-8285-bb843a74c1ef",
   "metadata": {
    "tags": []
   },
   "outputs": [
    {
     "name": "stderr",
     "output_type": "stream",
     "text": [
      "WARNING: StokesWarning: Cube is a Stokes cube, returning spectral cube for I component [spectral_cube.io.core]\n"
     ]
    }
   ],
   "source": [
    "cube_SiO_21 = SpectralCube.read(fn_SiO_21)\n",
    "cube_SiO_21 = cube_SiO_21.with_spectral_unit(u.km/u.s, velocity_convention='radio', rest_value=86.84696*u.GHz)"
   ]
  },
  {
   "cell_type": "code",
   "execution_count": 4,
   "id": "3113d6f0-c214-459a-8bb0-b272d6cb7664",
   "metadata": {
    "tags": []
   },
   "outputs": [],
   "source": [
    "cube_lowv = cube_SiO_21.spectral_slab(-60*u.km/u.s, -55*u.km/u.s)\n",
    "cube_lowv.write(f'/orange/adamginsburg/jwst/cloudc/alma/moments/cube_SiO_B3_n60_n55.fits', overwrite=True)"
   ]
  },
  {
   "cell_type": "code",
   "execution_count": 5,
   "id": "df90112b-dde2-47b9-b9d8-22e89b81d1e2",
   "metadata": {
    "tags": []
   },
   "outputs": [],
   "source": [
    "mom0_lowv = cube_lowv.moment0()\n",
    "mom0_lowv.write(f'/orange/adamginsburg/jwst/cloudc/alma/moments/mom0_SiO_B3_n60_n55.fits', overwrite=True)"
   ]
  },
  {
   "cell_type": "code",
   "execution_count": 6,
   "id": "7707ba79-e936-4911-833e-d928a08d0b62",
   "metadata": {},
   "outputs": [],
   "source": [
    "cube_highv = cube_SiO_21.spectral_slab(-55*u.km/u.s, -50*u.km/u.s)\n",
    "cube_highv.write(f'/orange/adamginsburg/jwst/cloudc/alma/moments/cube_SiO_B3_n55_n50.fits', overwrite=True)"
   ]
  },
  {
   "cell_type": "code",
   "execution_count": 7,
   "id": "44655887-f7f7-49e8-b1db-10138b4574aa",
   "metadata": {},
   "outputs": [],
   "source": [
    "mom0_highv = cube_highv.moment0()\n",
    "mom0_highv.write(f'/orange/adamginsburg/jwst/cloudc/alma/moments/mom0_SiO_B3_n55_n50.fits', overwrite=True)"
   ]
  },
  {
   "cell_type": "markdown",
   "id": "89a4d949-c9c0-4a9f-b7e0-b3ed22436f51",
   "metadata": {},
   "source": [
    "# CS 2-1"
   ]
  },
  {
   "cell_type": "code",
   "execution_count": 8,
   "id": "12632084-ed40-4742-87de-cf25fdda0488",
   "metadata": {
    "tags": []
   },
   "outputs": [],
   "source": [
    "# CS 2-1\t97.98095\n",
    "fn_CS_21 = '/orange/adamginsburg/ACES/rawdata/2021.1.00172.L/science_goal.uid___A001_X1590_X30a8/group.uid___A001_X1590_X30a9/member.uid___A001_X15a0_X1a8/calibrated/working/uid___A001_X15a0_X1a8.s38_0.Sgr_A_star_sci.spw33.cube.I.iter1.image.pbcor.fits'"
   ]
  },
  {
   "cell_type": "code",
   "execution_count": 9,
   "id": "84659f61-74c3-4ea9-9c18-88ce6515a98e",
   "metadata": {
    "tags": []
   },
   "outputs": [
    {
     "name": "stderr",
     "output_type": "stream",
     "text": [
      "WARNING: StokesWarning: Cube is a Stokes cube, returning spectral cube for I component [spectral_cube.io.core]\n"
     ]
    }
   ],
   "source": [
    "cube_CS_21 = SpectralCube.read(fn_CS_21)\n",
    "cube_CS_21 = cube_CS_21.with_spectral_unit(u.km/u.s, velocity_convention='radio', rest_value=97.98095*u.GHz)"
   ]
  },
  {
   "cell_type": "code",
   "execution_count": 10,
   "id": "e9992d39-ddf0-4c8a-9252-7a4851525eeb",
   "metadata": {
    "tags": []
   },
   "outputs": [],
   "source": [
    "cube_lowv = cube_CS_21.spectral_slab(-60*u.km/u.s, -55*u.km/u.s)\n",
    "cube_lowv.write(f'/orange/adamginsburg/jwst/cloudc/alma/moments/cube_CS_B3_n60_n55.fits', overwrite=True)"
   ]
  },
  {
   "cell_type": "code",
   "execution_count": 11,
   "id": "83c2e68c-705c-4bc4-bedb-3796754ab053",
   "metadata": {
    "tags": []
   },
   "outputs": [],
   "source": [
    "mom0_lowv = cube_lowv.moment0()\n",
    "mom0_lowv.write(f'/orange/adamginsburg/jwst/cloudc/alma/moments/mom0_CS_B3_n60_n55.fits', overwrite=True)"
   ]
  },
  {
   "cell_type": "code",
   "execution_count": 12,
   "id": "25f54112-ae89-460f-9f6d-e18bac2b5081",
   "metadata": {
    "tags": []
   },
   "outputs": [],
   "source": [
    "cube_highv = cube_CS_21.spectral_slab(-55*u.km/u.s, -50*u.km/u.s)\n",
    "cube_highv.write(f'/orange/adamginsburg/jwst/cloudc/alma/moments/cube_CS_B3_n55_n50.fits', overwrite=True)"
   ]
  },
  {
   "cell_type": "code",
   "execution_count": 13,
   "id": "f2d60ec1-487b-429d-8122-2c63f51723cb",
   "metadata": {
    "tags": []
   },
   "outputs": [],
   "source": [
    "mom0_highv = cube_highv.moment0()\n",
    "mom0_highv.write(f'/orange/adamginsburg/jwst/cloudc/alma/moments/mom0_CS_B3_n55_n50.fits', overwrite=True)"
   ]
  },
  {
   "cell_type": "markdown",
   "id": "5cf10734-1143-46ba-84d9-82db1afcea05",
   "metadata": {},
   "source": [
    "# Making Subcubes for CO Moment Analysis"
   ]
  },
  {
   "cell_type": "code",
   "execution_count": 1,
   "id": "05774b54-71ff-490a-bc94-642d1d93fbdb",
   "metadata": {},
   "outputs": [],
   "source": [
    "# SiO 5-4 rest_freq = 217.104984 GHz\n",
    "fn_CO_21 = '/orange/adamginsburg/jwst/cloudc/alma/uid___A001_X1590_X282a.CloudC.spw29.merge.p.image'"
   ]
  },
  {
   "cell_type": "code",
   "execution_count": 3,
   "id": "49cfd951-bf3c-493a-b661-e2fa996069d6",
   "metadata": {
    "tags": []
   },
   "outputs": [
    {
     "name": "stderr",
     "output_type": "stream",
     "text": [
      "/blue/adamginsburg/adamginsburg/repos/casa-formats-io/casa_formats_io/casa_dask.py:247: RuntimeWarning: divide by zero encountered in scalar remainder\n",
      "  factors = [f for f in range(stacks[dim] + 1) if stacks[dim] % f == 0]\n",
      "WARNING: StokesWarning: Cube is a Stokes cube, returning spectral cube for I component [spectral_cube.io.core]\n"
     ]
    }
   ],
   "source": [
    "cube_CO_21 = SpectralCube.read(fn_CO_21)\n",
    "cube_CO_21 = cube_CO_21.with_spectral_unit(u.km/u.s, velocity_convention='radio', rest_value=230.53800000*u.GHz)"
   ]
  },
  {
   "cell_type": "code",
   "execution_count": 4,
   "id": "deb9b0f1-7fdf-4948-b057-c40f7a51591b",
   "metadata": {
    "tags": []
   },
   "outputs": [],
   "source": [
    "cube_lowv = cube_CO_21.spectral_slab(-10*u.km/u.s, 40*u.km/u.s)\n",
    "cube_lowv.write(f'/orange/adamginsburg/jwst/cloudc/alma/moments/cube_CO_21_B6_n10_p40.fits', overwrite=True)"
   ]
  },
  {
   "cell_type": "code",
   "execution_count": 6,
   "id": "ddc4037d-8aec-4563-8322-ab35d8d9284d",
   "metadata": {
    "tags": []
   },
   "outputs": [],
   "source": [
    "cube_highv = cube_CO_21.spectral_slab(40*u.km/u.s, 90*u.km/u.s)\n",
    "cube_highv.write(f'/orange/adamginsburg/jwst/cloudc/alma/moments/cube_CO_21_B6_p40_p90.fits', overwrite=True)"
   ]
  },
  {
   "cell_type": "code",
   "execution_count": 5,
   "id": "485f4ef4-0395-475d-bdc6-edc776300f2a",
   "metadata": {
    "tags": []
   },
   "outputs": [
    {
     "name": "stderr",
     "output_type": "stream",
     "text": [
      "/blue/adamginsburg/adamginsburg/repos/radio-beam/radio_beam/multiple_beams.py:286: UserWarning: Do not use the average beam for convolution! Use the smallest common beam from `Beams.common_beam()`.\n",
      "  warnings.warn(\"Do not use the average beam for convolution! Use the\"\n",
      "WARNING: BeamAverageWarning: Arithmetic beam averaging is being performed.  This is not a mathematically robust operation, but is being permitted because the beams differ by <0.01 [spectral_cube.base_class]\n"
     ]
    }
   ],
   "source": [
    "mom0_lowv = cube_lowv.moment0()\n",
    "mom0_lowv.write(f'/orange/adamginsburg/jwst/cloudc/alma/moments/mom0_CO_21_B6_n10_p40.fits', overwrite=True)"
   ]
  },
  {
   "cell_type": "code",
   "execution_count": 7,
   "id": "b7fb6cd7-f852-408e-bdb9-c2c98b4af0a8",
   "metadata": {
    "tags": []
   },
   "outputs": [
    {
     "name": "stderr",
     "output_type": "stream",
     "text": [
      "/blue/adamginsburg/adamginsburg/repos/radio-beam/radio_beam/multiple_beams.py:286: UserWarning: Do not use the average beam for convolution! Use the smallest common beam from `Beams.common_beam()`.\n",
      "  warnings.warn(\"Do not use the average beam for convolution! Use the\"\n",
      "WARNING: BeamAverageWarning: Arithmetic beam averaging is being performed.  This is not a mathematically robust operation, but is being permitted because the beams differ by <0.01 [spectral_cube.base_class]\n"
     ]
    }
   ],
   "source": [
    "mom0_highv = cube_highv.moment0()\n",
    "mom0_highv.write(f'/orange/adamginsburg/jwst/cloudc/alma/moments/mom0_CO_21_B6_p40_p90.fits', overwrite=True)"
   ]
  },
  {
   "cell_type": "markdown",
   "id": "b9431583-c836-40af-81f9-98c5b2e807a8",
   "metadata": {},
   "source": [
    "# C18O"
   ]
  },
  {
   "cell_type": "code",
   "execution_count": 4,
   "id": "8ce9b05b-cfd7-4393-a137-be73f712b8bd",
   "metadata": {
    "tags": []
   },
   "outputs": [],
   "source": [
    "fn_C18O_21 = '/orange/adamginsburg/jwst/cloudc/alma/uid___A001_X1590_X282a.CloudC.spw27.merge.p.image'"
   ]
  },
  {
   "cell_type": "code",
   "execution_count": 5,
   "id": "ec3e3d96-5f10-438e-a290-b00e02b71005",
   "metadata": {
    "tags": []
   },
   "outputs": [
    {
     "name": "stderr",
     "output_type": "stream",
     "text": [
      "/blue/adamginsburg/adamginsburg/repos/casa-formats-io/casa_formats_io/casa_dask.py:247: RuntimeWarning: divide by zero encountered in scalar remainder\n",
      "  factors = [f for f in range(stacks[dim] + 1) if stacks[dim] % f == 0]\n",
      "WARNING: StokesWarning: Cube is a Stokes cube, returning spectral cube for I component [spectral_cube.io.core]\n"
     ]
    }
   ],
   "source": [
    "# 219.56035410\n",
    "cube_C18O_21 = SpectralCube.read(fn_C18O_21)\n",
    "cube_C18O_21 = cube_C18O_21.with_spectral_unit(u.km/u.s, velocity_convention='radio', rest_value=219.56035410*u.GHz)"
   ]
  },
  {
   "cell_type": "markdown",
   "id": "f10ab0d7-e4e6-46f1-b6aa-8e6c9a5e8ebe",
   "metadata": {},
   "source": [
    "## Centered on 32 km/s"
   ]
  },
  {
   "cell_type": "code",
   "execution_count": 5,
   "id": "b6081c93-98c9-4ab1-be26-a0a05e4d7f29",
   "metadata": {
    "tags": []
   },
   "outputs": [],
   "source": [
    "cube_lowv = cube_C18O_21.spectral_slab(-18*u.km/u.s, 32*u.km/u.s)\n",
    "cube_lowv.write(f'/orange/adamginsburg/jwst/cloudc/alma/moments/cube_C18O_21_B6_n18_p32.fits', overwrite=True)"
   ]
  },
  {
   "cell_type": "code",
   "execution_count": 6,
   "id": "6026ae99-228e-4baf-857f-7122f9d52bf7",
   "metadata": {
    "tags": []
   },
   "outputs": [
    {
     "name": "stderr",
     "output_type": "stream",
     "text": [
      "/blue/adamginsburg/adamginsburg/repos/radio-beam/radio_beam/multiple_beams.py:286: UserWarning: Do not use the average beam for convolution! Use the smallest common beam from `Beams.common_beam()`.\n",
      "  warnings.warn(\"Do not use the average beam for convolution! Use the\"\n",
      "WARNING: BeamAverageWarning: Arithmetic beam averaging is being performed.  This is not a mathematically robust operation, but is being permitted because the beams differ by <0.01 [spectral_cube.base_class]\n"
     ]
    }
   ],
   "source": [
    "mom0_lowv = cube_lowv.moment0()\n",
    "mom0_lowv.write(f'/orange/adamginsburg/jwst/cloudc/alma/moments/mom0_C18O_21_B6_n18_p32.fits', overwrite=True)"
   ]
  },
  {
   "cell_type": "code",
   "execution_count": 7,
   "id": "3ace6bdb-9f14-4dc6-bbcf-6384983ba2c1",
   "metadata": {
    "tags": []
   },
   "outputs": [],
   "source": [
    "cube_highv = cube_C18O_21.spectral_slab(32*u.km/u.s, 82*u.km/u.s)\n",
    "cube_highv.write(f'/orange/adamginsburg/jwst/cloudc/alma/moments/cube_C18O_21_B6_p32_p82.fits', overwrite=True)"
   ]
  },
  {
   "cell_type": "code",
   "execution_count": 8,
   "id": "43aaa9d8-3d0e-4a92-8641-b78ecef7330d",
   "metadata": {
    "tags": []
   },
   "outputs": [
    {
     "name": "stderr",
     "output_type": "stream",
     "text": [
      "/blue/adamginsburg/adamginsburg/repos/radio-beam/radio_beam/multiple_beams.py:286: UserWarning: Do not use the average beam for convolution! Use the smallest common beam from `Beams.common_beam()`.\n",
      "  warnings.warn(\"Do not use the average beam for convolution! Use the\"\n",
      "WARNING: BeamAverageWarning: Arithmetic beam averaging is being performed.  This is not a mathematically robust operation, but is being permitted because the beams differ by <0.01 [spectral_cube.base_class]\n"
     ]
    }
   ],
   "source": [
    "mom0_highv = cube_highv.moment0()\n",
    "mom0_highv.write(f'/orange/adamginsburg/jwst/cloudc/alma/moments/mom0_C18O_21_B6_p32_p82.fits', overwrite=True)"
   ]
  },
  {
   "cell_type": "markdown",
   "id": "9aa91889-5a01-48d9-854e-d0d97a8cfa87",
   "metadata": {},
   "source": [
    "## Lower velocity range"
   ]
  },
  {
   "cell_type": "code",
   "execution_count": 6,
   "id": "41d4a309-a74e-4d14-9f88-30f2d8b95838",
   "metadata": {
    "tags": []
   },
   "outputs": [],
   "source": [
    "cube_lowv = cube_C18O_21.spectral_slab(17*u.km/u.s, 32*u.km/u.s)\n",
    "cube_lowv.write(f'/orange/adamginsburg/jwst/cloudc/alma/moments/cube_C18O_21_B6_p17_p32.fits', overwrite=True)"
   ]
  },
  {
   "cell_type": "code",
   "execution_count": 7,
   "id": "b36d2eff-dce9-464c-9d2e-6a596bb27cc2",
   "metadata": {
    "tags": []
   },
   "outputs": [
    {
     "name": "stderr",
     "output_type": "stream",
     "text": [
      "/blue/adamginsburg/adamginsburg/repos/radio-beam/radio_beam/multiple_beams.py:286: UserWarning: Do not use the average beam for convolution! Use the smallest common beam from `Beams.common_beam()`.\n",
      "  warnings.warn(\"Do not use the average beam for convolution! Use the\"\n",
      "WARNING: BeamAverageWarning: Arithmetic beam averaging is being performed.  This is not a mathematically robust operation, but is being permitted because the beams differ by <0.01 [spectral_cube.base_class]\n"
     ]
    }
   ],
   "source": [
    "mom0_lowv = cube_lowv.moment0()\n",
    "mom0_lowv.write(f'/orange/adamginsburg/jwst/cloudc/alma/moments/mom0_C18O_21_B6_p17_p32.fits', overwrite=True)"
   ]
  },
  {
   "cell_type": "code",
   "execution_count": 8,
   "id": "da8315aa-1716-4959-8aac-b99983585ec7",
   "metadata": {
    "tags": []
   },
   "outputs": [],
   "source": [
    "cube_highv = cube_C18O_21.spectral_slab(32*u.km/u.s, 47*u.km/u.s)\n",
    "cube_highv.write(f'/orange/adamginsburg/jwst/cloudc/alma/moments/cube_C18O_21_B6_p32_p47.fits', overwrite=True)"
   ]
  },
  {
   "cell_type": "code",
   "execution_count": 9,
   "id": "8ccfebaa-5ef4-4139-a93d-f4166a06b565",
   "metadata": {
    "tags": []
   },
   "outputs": [
    {
     "name": "stderr",
     "output_type": "stream",
     "text": [
      "/blue/adamginsburg/adamginsburg/repos/radio-beam/radio_beam/multiple_beams.py:286: UserWarning: Do not use the average beam for convolution! Use the smallest common beam from `Beams.common_beam()`.\n",
      "  warnings.warn(\"Do not use the average beam for convolution! Use the\"\n",
      "WARNING: BeamAverageWarning: Arithmetic beam averaging is being performed.  This is not a mathematically robust operation, but is being permitted because the beams differ by <0.01 [spectral_cube.base_class]\n"
     ]
    }
   ],
   "source": [
    "mom0_highv = cube_highv.moment0()\n",
    "mom0_highv.write(f'/orange/adamginsburg/jwst/cloudc/alma/moments/mom0_C18O_21_B6_p32_p47.fits', overwrite=True)"
   ]
  },
  {
   "cell_type": "markdown",
   "id": "c93ec8c0-2bec-44d7-a150-17f51802f52d",
   "metadata": {},
   "source": [
    "## Centered on 40 km/s"
   ]
  },
  {
   "cell_type": "code",
   "execution_count": 4,
   "id": "ea333ca2-c17f-46de-88ad-d8522670ebae",
   "metadata": {
    "tags": []
   },
   "outputs": [],
   "source": [
    "cube_lowv = cube_C18O_21.spectral_slab(-10*u.km/u.s, 40*u.km/u.s)\n",
    "cube_lowv.write(f'/orange/adamginsburg/jwst/cloudc/alma/moments/cube_C18O_21_B6_n10_p40.fits', overwrite=True)"
   ]
  },
  {
   "cell_type": "code",
   "execution_count": 5,
   "id": "ce816642-bfdf-4aa3-9b06-8659959926bf",
   "metadata": {
    "tags": []
   },
   "outputs": [
    {
     "name": "stderr",
     "output_type": "stream",
     "text": [
      "/blue/adamginsburg/adamginsburg/repos/radio-beam/radio_beam/multiple_beams.py:286: UserWarning: Do not use the average beam for convolution! Use the smallest common beam from `Beams.common_beam()`.\n",
      "  warnings.warn(\"Do not use the average beam for convolution! Use the\"\n",
      "WARNING: BeamAverageWarning: Arithmetic beam averaging is being performed.  This is not a mathematically robust operation, but is being permitted because the beams differ by <0.01 [spectral_cube.base_class]\n"
     ]
    }
   ],
   "source": [
    "mom0_lowv = cube_lowv.moment0()\n",
    "mom0_lowv.write(f'/orange/adamginsburg/jwst/cloudc/alma/moments/mom0_C18O_21_B6_n10_p40.fits', overwrite=True)"
   ]
  },
  {
   "cell_type": "code",
   "execution_count": 6,
   "id": "50d29d58-441c-43ac-a2ec-95f2d560ac09",
   "metadata": {
    "tags": []
   },
   "outputs": [],
   "source": [
    "cube_highv = cube_C18O_21.spectral_slab(40*u.km/u.s, 90*u.km/u.s)\n",
    "cube_highv.write(f'/orange/adamginsburg/jwst/cloudc/alma/moments/cube_C18O_21_B6_p40_p90.fits', overwrite=True)"
   ]
  },
  {
   "cell_type": "code",
   "execution_count": 7,
   "id": "649bbcbf-eaa5-4455-9bc2-671221dd6f93",
   "metadata": {
    "tags": []
   },
   "outputs": [
    {
     "name": "stderr",
     "output_type": "stream",
     "text": [
      "/blue/adamginsburg/adamginsburg/repos/radio-beam/radio_beam/multiple_beams.py:286: UserWarning: Do not use the average beam for convolution! Use the smallest common beam from `Beams.common_beam()`.\n",
      "  warnings.warn(\"Do not use the average beam for convolution! Use the\"\n",
      "WARNING: BeamAverageWarning: Arithmetic beam averaging is being performed.  This is not a mathematically robust operation, but is being permitted because the beams differ by <0.01 [spectral_cube.base_class]\n"
     ]
    }
   ],
   "source": [
    "mom0_highv = cube_highv.moment0()\n",
    "mom0_highv.write(f'/orange/adamginsburg/jwst/cloudc/alma/moments/mom0_C18O_21_B6_p40_p90.fits', overwrite=True)"
   ]
  },
  {
   "cell_type": "code",
   "execution_count": null,
   "id": "f13cb533-a2d9-40d1-82f5-948f00c6a83e",
   "metadata": {},
   "outputs": [],
   "source": []
  }
 ],
 "metadata": {
  "kernelspec": {
   "display_name": "Python 3 (ipykernel)",
   "language": "python",
   "name": "python3"
  },
  "language_info": {
   "codemirror_mode": {
    "name": "ipython",
    "version": 3
   },
   "file_extension": ".py",
   "mimetype": "text/x-python",
   "name": "python",
   "nbconvert_exporter": "python",
   "pygments_lexer": "ipython3",
   "version": "3.9.17"
  }
 },
 "nbformat": 4,
 "nbformat_minor": 5
}
