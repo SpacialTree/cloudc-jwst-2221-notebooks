{
 "cells": [
  {
   "cell_type": "code",
   "execution_count": 1,
   "id": "5205e7af-3e45-4888-994a-fc2ea6ce4cf8",
   "metadata": {
    "tags": []
   },
   "outputs": [],
   "source": [
    "import pnicer\n",
    "import numpy as np"
   ]
  },
  {
   "cell_type": "code",
   "execution_count": null,
   "id": "3c840d91-0121-4e2f-a2f7-4daa9c0eb634",
   "metadata": {
    "tags": []
   },
   "outputs": [],
   "source": [
    "from pnicer.tests import orion\n",
    "orion()"
   ]
  },
  {
   "cell_type": "code",
   "execution_count": null,
   "id": "d7a9104d-c7d3-46e7-96ba-c02aa36b7430",
   "metadata": {
    "tags": []
   },
   "outputs": [],
   "source": []
  },
  {
   "cell_type": "code",
   "execution_count": null,
   "id": "dfe1e127-de19-4b38-8281-85d17bf623f7",
   "metadata": {},
   "outputs": [],
   "source": []
  }
 ],
 "metadata": {
  "kernelspec": {
   "display_name": "Python 3 (ipykernel)",
   "language": "python",
   "name": "python3"
  },
  "language_info": {
   "codemirror_mode": {
    "name": "ipython",
    "version": 3
   },
   "file_extension": ".py",
   "mimetype": "text/x-python",
   "name": "python",
   "nbconvert_exporter": "python",
   "pygments_lexer": "ipython3",
   "version": "3.9.17"
  }
 },
 "nbformat": 4,
 "nbformat_minor": 5
}
